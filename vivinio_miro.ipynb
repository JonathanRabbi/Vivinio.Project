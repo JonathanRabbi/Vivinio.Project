{
 "cells": [
  {
   "cell_type": "code",
   "execution_count": 14,
   "metadata": {},
   "outputs": [],
   "source": [
    "import sqlite3\n",
    "conn = sqlite3.connect(\"vivino.db\")\n",
    "cursor = conn.cursor()"
   ]
  },
  {
   "cell_type": "markdown",
   "metadata": {},
   "source": [
    "Find the top 3 most common grape all over the world and for each grape, give us the the 5 best rated wines."
   ]
  },
  {
   "cell_type": "code",
   "execution_count": 15,
   "metadata": {},
   "outputs": [
    {
     "data": {
      "text/plain": [
       "[(2, 'Cabernet Sauvignon', 801751, 12),\n",
       " (10, 'Merlot', 566719, 11),\n",
       " (5, 'Chardonnay', 604208, 6),\n",
       " (14, 'Pinot Noir', 572334, 3),\n",
       " (1, 'Shiraz/Syrah', 551112, 3)]"
      ]
     },
     "execution_count": 15,
     "metadata": {},
     "output_type": "execute_result"
    }
   ],
   "source": [
    "# TOP 3 MOST GRAPES QUERY  \n",
    "query1 = \"\"\"SELECT most_used_grapes_per_country.grape_id, grapes.name, most_used_grapes_per_country.wines_count, COUNT(most_used_grapes_per_country.grape_id) AS grapeCount\n",
    "             FROM most_used_grapes_per_country\n",
    "             JOIN grapes ON most_used_grapes_per_country.grape_id = grapes.id\n",
    "             GROUP BY grape_id\n",
    "             ORDER BY grapeCount DESC, wines_count DESC\n",
    "             LIMIT 5\n",
    "             \"\"\" \n",
    "cursor.execute(query1)\n",
    "cursor.fetchall() "
   ]
  },
  {
   "cell_type": "code",
   "execution_count": 16,
   "metadata": {},
   "outputs": [
    {
     "data": {
      "text/plain": [
       "[('Cabernet Sauvignon', 4.8, 'États-Unis', 'Cabernet Sauvignon'),\n",
       " ('Mágico', 4.8, 'Espagne', 'Cabernet Sauvignon'),\n",
       " ('IX Estate Red', 4.7, 'États-Unis', 'Cabernet Sauvignon'),\n",
       " ('Special Selection Cabernet Sauvignon',\n",
       "  4.7,\n",
       "  'États-Unis',\n",
       "  'Cabernet Sauvignon'),\n",
       " ('Unico Reserva Especial Edición', 4.7, 'Espagne', 'Cabernet Sauvignon')]"
      ]
     },
     "execution_count": 16,
     "metadata": {},
     "output_type": "execute_result"
    }
   ],
   "source": [
    "# TOP 5 BEST RATED CABERNET SAUVIGNON\n",
    "query2 = \"\"\"SELECT wines.name, wines.ratings_average, countries.name, grapes.name\n",
    "            FROM wines\n",
    "            JOIN regions ON wines.region_id = regions.id\n",
    "            JOIN countries ON regions.country_code = countries.code\n",
    "            JOIN grapes ON most_used_grapes_per_country.grape_id = grapes.id\n",
    "            JOIN most_used_grapes_per_country ON countries.code = most_used_grapes_per_country.country_code\n",
    "            WHERE grapes.id IN (2)\n",
    "            ORDER BY wines.ratings_average DESC\n",
    "            LIMIT 5\n",
    "            \"\"\"\n",
    "cursor.execute(query2)\n",
    "cursor.fetchall() "
   ]
  },
  {
   "cell_type": "code",
   "execution_count": 17,
   "metadata": {},
   "outputs": [
    {
     "data": {
      "text/plain": [
       "[('Amarone della Valpolicella Classico Riserva', 4.8, 'Italie', 'Merlot'),\n",
       " ('Fratini Bolgheri Superiore', 4.8, 'Italie', 'Merlot'),\n",
       " ('Cristal Rosé Vinothèque', 4.8, 'France', 'Merlot'),\n",
       " ('Batard-Montrachet Grand Cru', 4.8, 'France', 'Merlot'),\n",
       " ('Eszencia', 4.7, 'Hongrie', 'Merlot')]"
      ]
     },
     "execution_count": 17,
     "metadata": {},
     "output_type": "execute_result"
    }
   ],
   "source": [
    "# TOP 5 BEST RATED MERLOT\n",
    "query3 = \"\"\"SELECT wines.name, wines.ratings_average, countries.name, grapes.name\n",
    "            FROM wines\n",
    "            JOIN regions ON wines.region_id = regions.id\n",
    "            JOIN countries ON regions.country_code = countries.code\n",
    "            JOIN grapes ON most_used_grapes_per_country.grape_id = grapes.id\n",
    "            JOIN most_used_grapes_per_country ON countries.code = most_used_grapes_per_country.country_code\n",
    "            WHERE grapes.id IN (10)\n",
    "            ORDER BY wines.ratings_average DESC\n",
    "            LIMIT 5\n",
    "            \"\"\"\n",
    "cursor.execute(query3)\n",
    "cursor.fetchall() "
   ]
  },
  {
   "cell_type": "code",
   "execution_count": 19,
   "metadata": {},
   "outputs": [
    {
     "data": {
      "text/plain": [
       "[('Amarone della Valpolicella Classico Riserva', 4.8, 'Italie', 'Chardonnay'),\n",
       " ('Cabernet Sauvignon', 4.8, 'États-Unis', 'Chardonnay'),\n",
       " ('Fratini Bolgheri Superiore', 4.8, 'Italie', 'Chardonnay'),\n",
       " ('Cristal Rosé Vinothèque', 4.8, 'France', 'Chardonnay'),\n",
       " ('Batard-Montrachet Grand Cru', 4.8, 'France', 'Chardonnay')]"
      ]
     },
     "execution_count": 19,
     "metadata": {},
     "output_type": "execute_result"
    }
   ],
   "source": [
    "# TOP 5 BEST RATED CHARDONNAY\n",
    "query4 = \"\"\"SELECT wines.name, wines.ratings_average, countries.name, grapes.name\n",
    "            FROM wines\n",
    "            JOIN regions ON wines.region_id = regions.id\n",
    "            JOIN countries ON regions.country_code = countries.code\n",
    "            JOIN grapes ON most_used_grapes_per_country.grape_id = grapes.id\n",
    "            JOIN most_used_grapes_per_country ON countries.code = most_used_grapes_per_country.country_code\n",
    "            WHERE grapes.id IN (5)\n",
    "            ORDER BY wines.ratings_average DESC\n",
    "            LIMIT 5\n",
    "            \"\"\"\n",
    "cursor.execute(query4)\n",
    "cursor.fetchall() "
   ]
  }
 ],
 "metadata": {
  "kernelspec": {
   "display_name": "Python 3",
   "language": "python",
   "name": "python3"
  },
  "language_info": {
   "codemirror_mode": {
    "name": "ipython",
    "version": 3
   },
   "file_extension": ".py",
   "mimetype": "text/x-python",
   "name": "python",
   "nbconvert_exporter": "python",
   "pygments_lexer": "ipython3",
   "version": "3.11.0rc1"
  },
  "orig_nbformat": 4
 },
 "nbformat": 4,
 "nbformat_minor": 2
}
